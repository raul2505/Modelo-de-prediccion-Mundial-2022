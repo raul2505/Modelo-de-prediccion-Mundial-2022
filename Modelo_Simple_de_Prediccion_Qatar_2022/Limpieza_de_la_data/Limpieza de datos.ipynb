{
 "cells": [
  {
   "cell_type": "code",
   "execution_count": 292,
   "id": "f90973ab-0fd0-4285-9b78-15dea0d9e7d3",
   "metadata": {},
   "outputs": [],
   "source": [
    "import pandas as pd"
   ]
  },
  {
   "cell_type": "markdown",
   "id": "d4ed903b-0e14-4d1d-9ef6-0648797e65d7",
   "metadata": {},
   "source": [
    "# 1 LIMPIANDO DATA"
   ]
  },
  {
   "cell_type": "code",
   "execution_count": 295,
   "id": "7555abc8-6859-49c7-bd61-47c75797d8ce",
   "metadata": {},
   "outputs": [
    {
     "data": {
      "text/html": [
       "<div>\n",
       "<style scoped>\n",
       "    .dataframe tbody tr th:only-of-type {\n",
       "        vertical-align: middle;\n",
       "    }\n",
       "\n",
       "    .dataframe tbody tr th {\n",
       "        vertical-align: top;\n",
       "    }\n",
       "\n",
       "    .dataframe thead th {\n",
       "        text-align: right;\n",
       "    }\n",
       "</style>\n",
       "<table border=\"1\" class=\"dataframe\">\n",
       "  <thead>\n",
       "    <tr style=\"text-align: right;\">\n",
       "      <th></th>\n",
       "      <th>home</th>\n",
       "      <th>score</th>\n",
       "      <th>away</th>\n",
       "      <th>year</th>\n",
       "    </tr>\n",
       "  </thead>\n",
       "  <tbody>\n",
       "    <tr>\n",
       "      <th>0</th>\n",
       "      <td>France</td>\n",
       "      <td>4–1</td>\n",
       "      <td>Mexico</td>\n",
       "      <td>1930.0</td>\n",
       "    </tr>\n",
       "    <tr>\n",
       "      <th>1</th>\n",
       "      <td>Argentina</td>\n",
       "      <td>1–0</td>\n",
       "      <td>France</td>\n",
       "      <td>1930.0</td>\n",
       "    </tr>\n",
       "    <tr>\n",
       "      <th>2</th>\n",
       "      <td>Chile</td>\n",
       "      <td>3–0</td>\n",
       "      <td>Mexico</td>\n",
       "      <td>1930.0</td>\n",
       "    </tr>\n",
       "    <tr>\n",
       "      <th>3</th>\n",
       "      <td>Chile</td>\n",
       "      <td>1–0</td>\n",
       "      <td>France</td>\n",
       "      <td>1930.0</td>\n",
       "    </tr>\n",
       "    <tr>\n",
       "      <th>4</th>\n",
       "      <td>Argentina</td>\n",
       "      <td>6–3</td>\n",
       "      <td>Mexico</td>\n",
       "      <td>1930.0</td>\n",
       "    </tr>\n",
       "    <tr>\n",
       "      <th>...</th>\n",
       "      <td>...</td>\n",
       "      <td>...</td>\n",
       "      <td>...</td>\n",
       "      <td>...</td>\n",
       "    </tr>\n",
       "    <tr>\n",
       "      <th>792</th>\n",
       "      <td>Russia</td>\n",
       "      <td>2–2 (a.e.t.)</td>\n",
       "      <td>Croatia</td>\n",
       "      <td>2018.0</td>\n",
       "    </tr>\n",
       "    <tr>\n",
       "      <th>793</th>\n",
       "      <td>France</td>\n",
       "      <td>1–0</td>\n",
       "      <td>Belgium</td>\n",
       "      <td>2018.0</td>\n",
       "    </tr>\n",
       "    <tr>\n",
       "      <th>794</th>\n",
       "      <td>Croatia</td>\n",
       "      <td>2–1 (a.e.t.)</td>\n",
       "      <td>England</td>\n",
       "      <td>2018.0</td>\n",
       "    </tr>\n",
       "    <tr>\n",
       "      <th>795</th>\n",
       "      <td>Belgium</td>\n",
       "      <td>2–0</td>\n",
       "      <td>England</td>\n",
       "      <td>2018.0</td>\n",
       "    </tr>\n",
       "    <tr>\n",
       "      <th>796</th>\n",
       "      <td>France</td>\n",
       "      <td>4–2</td>\n",
       "      <td>Croatia</td>\n",
       "      <td>2018.0</td>\n",
       "    </tr>\n",
       "  </tbody>\n",
       "</table>\n",
       "<p>797 rows × 4 columns</p>\n",
       "</div>"
      ],
      "text/plain": [
       "           home         score      away    year\n",
       "0       France            4–1    Mexico  1930.0\n",
       "1    Argentina            1–0    France  1930.0\n",
       "2        Chile            3–0    Mexico  1930.0\n",
       "3        Chile            1–0    France  1930.0\n",
       "4    Argentina            6–3    Mexico  1930.0\n",
       "..          ...           ...       ...     ...\n",
       "792     Russia   2–2 (a.e.t.)   Croatia  2018.0\n",
       "793     France            1–0   Belgium  2018.0\n",
       "794    Croatia   2–1 (a.e.t.)   England  2018.0\n",
       "795    Belgium            2–0   England  2018.0\n",
       "796     France            4–2   Croatia  2018.0\n",
       "\n",
       "[797 rows x 4 columns]"
      ]
     },
     "execution_count": 295,
     "metadata": {},
     "output_type": "execute_result"
    }
   ],
   "source": [
    "df_data_historica = pd.read_csv('fifa_worldcup_historical_data.csv')\n",
    "df_data_historica"
   ]
  },
  {
   "cell_type": "markdown",
   "id": "354c48b4-025b-4347-ba68-039e39acce95",
   "metadata": {},
   "source": [
    "# 1.1 Limpieza de df_fixture"
   ]
  },
  {
   "cell_type": "code",
   "execution_count": 298,
   "id": "861c3fda-28f2-463e-a109-6b21a2ffbcc6",
   "metadata": {},
   "outputs": [
    {
     "data": {
      "text/html": [
       "<div>\n",
       "<style scoped>\n",
       "    .dataframe tbody tr th:only-of-type {\n",
       "        vertical-align: middle;\n",
       "    }\n",
       "\n",
       "    .dataframe tbody tr th {\n",
       "        vertical-align: top;\n",
       "    }\n",
       "\n",
       "    .dataframe thead th {\n",
       "        text-align: right;\n",
       "    }\n",
       "</style>\n",
       "<table border=\"1\" class=\"dataframe\">\n",
       "  <thead>\n",
       "    <tr style=\"text-align: right;\">\n",
       "      <th></th>\n",
       "      <th>home</th>\n",
       "      <th>score</th>\n",
       "      <th>away</th>\n",
       "      <th>year</th>\n",
       "    </tr>\n",
       "  </thead>\n",
       "  <tbody>\n",
       "    <tr>\n",
       "      <th>0</th>\n",
       "      <td>Qatar</td>\n",
       "      <td>Match 1</td>\n",
       "      <td>Ecuador</td>\n",
       "      <td>2022</td>\n",
       "    </tr>\n",
       "    <tr>\n",
       "      <th>1</th>\n",
       "      <td>Senegal</td>\n",
       "      <td>Match 2</td>\n",
       "      <td>Netherlands</td>\n",
       "      <td>2022</td>\n",
       "    </tr>\n",
       "    <tr>\n",
       "      <th>2</th>\n",
       "      <td>Qatar</td>\n",
       "      <td>Match 18</td>\n",
       "      <td>Senegal</td>\n",
       "      <td>2022</td>\n",
       "    </tr>\n",
       "    <tr>\n",
       "      <th>3</th>\n",
       "      <td>Netherlands</td>\n",
       "      <td>Match 19</td>\n",
       "      <td>Ecuador</td>\n",
       "      <td>2022</td>\n",
       "    </tr>\n",
       "    <tr>\n",
       "      <th>4</th>\n",
       "      <td>Ecuador</td>\n",
       "      <td>Match 35</td>\n",
       "      <td>Senegal</td>\n",
       "      <td>2022</td>\n",
       "    </tr>\n",
       "    <tr>\n",
       "      <th>...</th>\n",
       "      <td>...</td>\n",
       "      <td>...</td>\n",
       "      <td>...</td>\n",
       "      <td>...</td>\n",
       "    </tr>\n",
       "    <tr>\n",
       "      <th>59</th>\n",
       "      <td>Winners Match 51</td>\n",
       "      <td>Match 59</td>\n",
       "      <td>Winners Match 52</td>\n",
       "      <td>2022</td>\n",
       "    </tr>\n",
       "    <tr>\n",
       "      <th>60</th>\n",
       "      <td>Winners Match 57</td>\n",
       "      <td>Match 61</td>\n",
       "      <td>Winners Match 58</td>\n",
       "      <td>2022</td>\n",
       "    </tr>\n",
       "    <tr>\n",
       "      <th>61</th>\n",
       "      <td>Winners Match 59</td>\n",
       "      <td>Match 62</td>\n",
       "      <td>Winners Match 60</td>\n",
       "      <td>2022</td>\n",
       "    </tr>\n",
       "    <tr>\n",
       "      <th>62</th>\n",
       "      <td>Losers Match 61</td>\n",
       "      <td>Match 63</td>\n",
       "      <td>Losers Match 62</td>\n",
       "      <td>2022</td>\n",
       "    </tr>\n",
       "    <tr>\n",
       "      <th>63</th>\n",
       "      <td>Winners Match 61</td>\n",
       "      <td>Match 64</td>\n",
       "      <td>Winners Match 62</td>\n",
       "      <td>2022</td>\n",
       "    </tr>\n",
       "  </tbody>\n",
       "</table>\n",
       "<p>64 rows × 4 columns</p>\n",
       "</div>"
      ],
      "text/plain": [
       "                home     score              away  year\n",
       "0             Qatar    Match 1           Ecuador  2022\n",
       "1           Senegal    Match 2       Netherlands  2022\n",
       "2             Qatar   Match 18           Senegal  2022\n",
       "3       Netherlands   Match 19           Ecuador  2022\n",
       "4           Ecuador   Match 35           Senegal  2022\n",
       "..               ...       ...               ...   ...\n",
       "59  Winners Match 51  Match 59  Winners Match 52  2022\n",
       "60  Winners Match 57  Match 61  Winners Match 58  2022\n",
       "61  Winners Match 59  Match 62  Winners Match 60  2022\n",
       "62   Losers Match 61  Match 63   Losers Match 62  2022\n",
       "63  Winners Match 61  Match 64  Winners Match 62  2022\n",
       "\n",
       "[64 rows x 4 columns]"
      ]
     },
     "execution_count": 298,
     "metadata": {},
     "output_type": "execute_result"
    }
   ],
   "source": [
    "df_fixture = pd.read_csv('fifa_worldcup_fixture.csv')\n",
    "df_fixture"
   ]
  },
  {
   "cell_type": "code",
   "execution_count": 300,
   "id": "728dfab5-b4d8-4f80-a517-bbe9c407fee7",
   "metadata": {},
   "outputs": [
    {
     "data": {
      "text/html": [
       "<div>\n",
       "<style scoped>\n",
       "    .dataframe tbody tr th:only-of-type {\n",
       "        vertical-align: middle;\n",
       "    }\n",
       "\n",
       "    .dataframe tbody tr th {\n",
       "        vertical-align: top;\n",
       "    }\n",
       "\n",
       "    .dataframe thead th {\n",
       "        text-align: right;\n",
       "    }\n",
       "</style>\n",
       "<table border=\"1\" class=\"dataframe\">\n",
       "  <thead>\n",
       "    <tr style=\"text-align: right;\">\n",
       "      <th></th>\n",
       "      <th>home</th>\n",
       "      <th>score</th>\n",
       "      <th>away</th>\n",
       "      <th>year</th>\n",
       "    </tr>\n",
       "  </thead>\n",
       "  <tbody>\n",
       "    <tr>\n",
       "      <th>0</th>\n",
       "      <td>Qatar</td>\n",
       "      <td>Match 1</td>\n",
       "      <td>Ecuador</td>\n",
       "      <td>2022</td>\n",
       "    </tr>\n",
       "    <tr>\n",
       "      <th>1</th>\n",
       "      <td>Senegal</td>\n",
       "      <td>Match 2</td>\n",
       "      <td>Netherlands</td>\n",
       "      <td>2022</td>\n",
       "    </tr>\n",
       "    <tr>\n",
       "      <th>2</th>\n",
       "      <td>Qatar</td>\n",
       "      <td>Match 18</td>\n",
       "      <td>Senegal</td>\n",
       "      <td>2022</td>\n",
       "    </tr>\n",
       "    <tr>\n",
       "      <th>3</th>\n",
       "      <td>Netherlands</td>\n",
       "      <td>Match 19</td>\n",
       "      <td>Ecuador</td>\n",
       "      <td>2022</td>\n",
       "    </tr>\n",
       "    <tr>\n",
       "      <th>4</th>\n",
       "      <td>Ecuador</td>\n",
       "      <td>Match 35</td>\n",
       "      <td>Senegal</td>\n",
       "      <td>2022</td>\n",
       "    </tr>\n",
       "    <tr>\n",
       "      <th>...</th>\n",
       "      <td>...</td>\n",
       "      <td>...</td>\n",
       "      <td>...</td>\n",
       "      <td>...</td>\n",
       "    </tr>\n",
       "    <tr>\n",
       "      <th>59</th>\n",
       "      <td>Winners Match 51</td>\n",
       "      <td>Match 59</td>\n",
       "      <td>Winners Match 52</td>\n",
       "      <td>2022</td>\n",
       "    </tr>\n",
       "    <tr>\n",
       "      <th>60</th>\n",
       "      <td>Winners Match 57</td>\n",
       "      <td>Match 61</td>\n",
       "      <td>Winners Match 58</td>\n",
       "      <td>2022</td>\n",
       "    </tr>\n",
       "    <tr>\n",
       "      <th>61</th>\n",
       "      <td>Winners Match 59</td>\n",
       "      <td>Match 62</td>\n",
       "      <td>Winners Match 60</td>\n",
       "      <td>2022</td>\n",
       "    </tr>\n",
       "    <tr>\n",
       "      <th>62</th>\n",
       "      <td>Losers Match 61</td>\n",
       "      <td>Match 63</td>\n",
       "      <td>Losers Match 62</td>\n",
       "      <td>2022</td>\n",
       "    </tr>\n",
       "    <tr>\n",
       "      <th>63</th>\n",
       "      <td>Winners Match 61</td>\n",
       "      <td>Match 64</td>\n",
       "      <td>Winners Match 62</td>\n",
       "      <td>2022</td>\n",
       "    </tr>\n",
       "  </tbody>\n",
       "</table>\n",
       "<p>64 rows × 4 columns</p>\n",
       "</div>"
      ],
      "text/plain": [
       "                home     score              away  year\n",
       "0             Qatar    Match 1           Ecuador  2022\n",
       "1           Senegal    Match 2       Netherlands  2022\n",
       "2             Qatar   Match 18           Senegal  2022\n",
       "3       Netherlands   Match 19           Ecuador  2022\n",
       "4           Ecuador   Match 35           Senegal  2022\n",
       "..               ...       ...               ...   ...\n",
       "59  Winners Match 51  Match 59  Winners Match 52  2022\n",
       "60  Winners Match 57  Match 61  Winners Match 58  2022\n",
       "61  Winners Match 59  Match 62  Winners Match 60  2022\n",
       "62   Losers Match 61  Match 63   Losers Match 62  2022\n",
       "63  Winners Match 61  Match 64  Winners Match 62  2022\n",
       "\n",
       "[64 rows x 4 columns]"
      ]
     },
     "execution_count": 300,
     "metadata": {},
     "output_type": "execute_result"
    }
   ],
   "source": [
    "df_fixture"
   ]
  },
  {
   "cell_type": "markdown",
   "id": "d60dc8f2-f729-41ef-a156-c30d81e301d9",
   "metadata": {},
   "source": [
    "# 1.1.1 Limpieza de df_fixture[\"away\"]"
   ]
  },
  {
   "cell_type": "code",
   "execution_count": 303,
   "id": "b6f41a1b-7bdf-4363-9208-f172784fd8e3",
   "metadata": {},
   "outputs": [
    {
     "name": "stdout",
     "output_type": "stream",
     "text": [
      "{'\\xa0Argentina', 'Winners Match 56', '\\xa0Uruguay', '\\xa0Brazil', '\\xa0Denmark', '\\xa0Japan', 'Runners-up Group D', '\\xa0Spain', '\\xa0Netherlands', 'Runners-up Group G', '\\xa0Ecuador', '\\xa0Senegal', '\\xa0Tunisia', '\\xa0Croatia', '\\xa0Morocco', 'Runners-up Group B', 'Runners-up Group E', '\\xa0Ghana', '\\xa0Wales', '\\xa0Cameroon', '\\xa0Qatar', '\\xa0Australia', 'Runners-up Group C', '\\xa0France', '\\xa0Poland', '\\xa0Costa Rica', 'Winners Match 60', 'Runners-up Group F', 'Losers Match 62', 'Winners Match 50', '\\xa0Belgium', '\\xa0Germany', 'Winners Match 62', '\\xa0Mexico', '\\xa0Iran', '\\xa0Switzerland', 'Runners-up Group A', '\\xa0England', '\\xa0Saudi Arabia', '\\xa0Canada', 'Runners-up Group H', 'Winners Match 58', '\\xa0Portugal', '\\xa0South Korea', 'Winners Match 54', '\\xa0Serbia', '\\xa0United States', 'Winners Match 52'}\n"
     ]
    }
   ],
   "source": [
    "#Se observa que la data no esta del todo limpio\n",
    "set_away = set(df_fixture[\"away\"].to_list())\n",
    "print(set_away)"
   ]
  },
  {
   "cell_type": "code",
   "execution_count": 305,
   "id": "90db3448-41d6-4eae-9312-df550c3c09a2",
   "metadata": {},
   "outputs": [],
   "source": [
    "#Para eliminar espacios en blancos de una cadena de texto\n",
    "df_fixture['away'] = df_fixture['away'].str.strip()"
   ]
  },
  {
   "cell_type": "code",
   "execution_count": 307,
   "id": "cb5f41ee-5bd5-417f-8586-e9eef48f85f3",
   "metadata": {},
   "outputs": [
    {
     "name": "stdout",
     "output_type": "stream",
     "text": [
      "{'Winners Match 56', 'Mexico', 'Brazil', 'Portugal', 'Cameroon', 'England', 'Runners-up Group D', 'Ecuador', 'Saudi Arabia', 'Qatar', 'Switzerland', 'Germany', 'Runners-up Group G', 'Serbia', 'Runners-up Group E', 'Runners-up Group B', 'South Korea', 'Argentina', 'Netherlands', 'Iran', 'Japan', 'Runners-up Group C', 'Canada', 'Winners Match 60', 'Croatia', 'France', 'Morocco', 'Senegal', 'Runners-up Group F', 'Losers Match 62', 'Wales', 'Winners Match 50', 'Tunisia', 'Denmark', 'Costa Rica', 'Winners Match 62', 'Runners-up Group A', 'United States', 'Belgium', 'Runners-up Group H', 'Winners Match 58', 'Uruguay', 'Australia', 'Poland', 'Winners Match 54', 'Ghana', 'Winners Match 52', 'Spain'}\n"
     ]
    }
   ],
   "source": [
    "set_away = set(df_fixture[\"away\"].to_list())\n",
    "print(set_away)"
   ]
  },
  {
   "cell_type": "markdown",
   "id": "6e1c198c-0542-44e1-842e-ea143291c8b2",
   "metadata": {},
   "source": [
    "# 1.1.2 Limpieza de df_fixture[\"home\"]"
   ]
  },
  {
   "cell_type": "code",
   "execution_count": 310,
   "id": "8e518475-a91a-4b96-a914-58ea3188c629",
   "metadata": {},
   "outputs": [],
   "source": [
    "#Lo mismo se aplica aqui\n",
    "df_fixture['home'] = df_fixture['home'].str.strip()"
   ]
  },
  {
   "cell_type": "markdown",
   "id": "b4e4d725-8c13-41ff-bd40-849d1d8e5b9f",
   "metadata": {},
   "source": [
    "# 1.1.3 Limpieza de df_fixture[\"score\"]"
   ]
  },
  {
   "cell_type": "code",
   "execution_count": 313,
   "id": "4747d69f-e9bd-4018-8c1b-912331dfd0e4",
   "metadata": {},
   "outputs": [
    {
     "name": "stdout",
     "output_type": "stream",
     "text": [
      "{'Match 7', 'Match 60', 'Match 6', 'Match 25', 'Match 20', 'Match 44', 'Match 41', 'Match 9', 'Match 46', 'Match 2', 'Match 48', 'Match 21', 'Match 23', 'Match 28', 'Match 1', 'Match 13', 'Match 35', 'Match 10', 'Match 27', 'Match 32', 'Match 57', 'Match 24', 'Match 63', 'Match 64', 'Match 61', 'Match 50', 'Match 39', 'Match 59', 'Match 51', 'Match 33', 'Match 22', 'Match 19', 'Match 11', 'Match 31', 'Match 52', 'Match 29', 'Match 4', 'Match 15', 'Match 14', 'Match 8', 'Match 43', 'Match 42', 'Match 18', 'Match 37', 'Match 55', 'Match 30', 'Match 56', 'Match 38', 'Match 47', 'Match 53', 'Match 58', 'Match 49', 'Match 17', 'Match 12', 'Match 34', 'Match 16', 'Match 40', 'Match 62', 'Match 5', 'Match 45', 'Match 26', 'Match 54', 'Match 3', 'Match 36'}\n"
     ]
    }
   ],
   "source": [
    "set_score = set(df_fixture[\"score\"].to_list())\n",
    "print(set_score)"
   ]
  },
  {
   "cell_type": "markdown",
   "id": "46f7f236-3d34-4614-a41f-55141e7f6952",
   "metadata": {},
   "source": [
    "# 1.2 Limpieza de df_historical_data"
   ]
  },
  {
   "cell_type": "code",
   "execution_count": 316,
   "id": "9b35d9eb-25d3-45fc-8961-d18e95a7b379",
   "metadata": {},
   "outputs": [
    {
     "data": {
      "text/html": [
       "<div>\n",
       "<style scoped>\n",
       "    .dataframe tbody tr th:only-of-type {\n",
       "        vertical-align: middle;\n",
       "    }\n",
       "\n",
       "    .dataframe tbody tr th {\n",
       "        vertical-align: top;\n",
       "    }\n",
       "\n",
       "    .dataframe thead th {\n",
       "        text-align: right;\n",
       "    }\n",
       "</style>\n",
       "<table border=\"1\" class=\"dataframe\">\n",
       "  <thead>\n",
       "    <tr style=\"text-align: right;\">\n",
       "      <th></th>\n",
       "      <th>home</th>\n",
       "      <th>score</th>\n",
       "      <th>away</th>\n",
       "      <th>year</th>\n",
       "    </tr>\n",
       "  </thead>\n",
       "  <tbody>\n",
       "    <tr>\n",
       "      <th>0</th>\n",
       "      <td>France</td>\n",
       "      <td>4–1</td>\n",
       "      <td>Mexico</td>\n",
       "      <td>1930.0</td>\n",
       "    </tr>\n",
       "    <tr>\n",
       "      <th>1</th>\n",
       "      <td>Argentina</td>\n",
       "      <td>1–0</td>\n",
       "      <td>France</td>\n",
       "      <td>1930.0</td>\n",
       "    </tr>\n",
       "    <tr>\n",
       "      <th>2</th>\n",
       "      <td>Chile</td>\n",
       "      <td>3–0</td>\n",
       "      <td>Mexico</td>\n",
       "      <td>1930.0</td>\n",
       "    </tr>\n",
       "    <tr>\n",
       "      <th>3</th>\n",
       "      <td>Chile</td>\n",
       "      <td>1–0</td>\n",
       "      <td>France</td>\n",
       "      <td>1930.0</td>\n",
       "    </tr>\n",
       "    <tr>\n",
       "      <th>4</th>\n",
       "      <td>Argentina</td>\n",
       "      <td>6–3</td>\n",
       "      <td>Mexico</td>\n",
       "      <td>1930.0</td>\n",
       "    </tr>\n",
       "    <tr>\n",
       "      <th>...</th>\n",
       "      <td>...</td>\n",
       "      <td>...</td>\n",
       "      <td>...</td>\n",
       "      <td>...</td>\n",
       "    </tr>\n",
       "    <tr>\n",
       "      <th>792</th>\n",
       "      <td>Russia</td>\n",
       "      <td>2–2 (a.e.t.)</td>\n",
       "      <td>Croatia</td>\n",
       "      <td>2018.0</td>\n",
       "    </tr>\n",
       "    <tr>\n",
       "      <th>793</th>\n",
       "      <td>France</td>\n",
       "      <td>1–0</td>\n",
       "      <td>Belgium</td>\n",
       "      <td>2018.0</td>\n",
       "    </tr>\n",
       "    <tr>\n",
       "      <th>794</th>\n",
       "      <td>Croatia</td>\n",
       "      <td>2–1 (a.e.t.)</td>\n",
       "      <td>England</td>\n",
       "      <td>2018.0</td>\n",
       "    </tr>\n",
       "    <tr>\n",
       "      <th>795</th>\n",
       "      <td>Belgium</td>\n",
       "      <td>2–0</td>\n",
       "      <td>England</td>\n",
       "      <td>2018.0</td>\n",
       "    </tr>\n",
       "    <tr>\n",
       "      <th>796</th>\n",
       "      <td>France</td>\n",
       "      <td>4–2</td>\n",
       "      <td>Croatia</td>\n",
       "      <td>2018.0</td>\n",
       "    </tr>\n",
       "  </tbody>\n",
       "</table>\n",
       "<p>797 rows × 4 columns</p>\n",
       "</div>"
      ],
      "text/plain": [
       "           home         score      away    year\n",
       "0       France            4–1    Mexico  1930.0\n",
       "1    Argentina            1–0    France  1930.0\n",
       "2        Chile            3–0    Mexico  1930.0\n",
       "3        Chile            1–0    France  1930.0\n",
       "4    Argentina            6–3    Mexico  1930.0\n",
       "..          ...           ...       ...     ...\n",
       "792     Russia   2–2 (a.e.t.)   Croatia  2018.0\n",
       "793     France            1–0   Belgium  2018.0\n",
       "794    Croatia   2–1 (a.e.t.)   England  2018.0\n",
       "795    Belgium            2–0   England  2018.0\n",
       "796     France            4–2   Croatia  2018.0\n",
       "\n",
       "[797 rows x 4 columns]"
      ]
     },
     "execution_count": 316,
     "metadata": {},
     "output_type": "execute_result"
    }
   ],
   "source": [
    "df_data_historica = pd.read_csv('fifa_worldcup_historical_data.csv')\n",
    "df_data_historica"
   ]
  },
  {
   "cell_type": "markdown",
   "id": "e5b6170a-0e79-4815-bdc5-fe74e453b3c2",
   "metadata": {},
   "source": [
    "# 1.2.1 Limpieza de df_data_historica[\"home\"]"
   ]
  },
  {
   "cell_type": "code",
   "execution_count": 318,
   "id": "2c14197e-2d1c-4226-a653-8e3fc03b34b8",
   "metadata": {},
   "outputs": [
    {
     "name": "stdout",
     "output_type": "stream",
     "text": [
      "{'Hungary\\xa0', 'Serbia\\xa0', 'Japan\\xa0', 'Togo\\xa0', 'Senegal\\xa0', 'South Korea\\xa0', 'South Africa\\xa0', 'England\\xa0', 'Morocco\\xa0', 'Algeria\\xa0', 'Czech Republic\\xa0', 'Saudi Arabia\\xa0', 'West Germany\\xa0', 'Sweden\\xa0', 'Bosnia and Herzegovina\\xa0', 'New Zealand\\xa0', 'Panama\\xa0', 'China\\xa0', 'North Korea\\xa0', 'Ecuador\\xa0', 'Honduras\\xa0', 'Turkey\\xa0', 'Chile\\xa0', 'Peru\\xa0', 'Poland\\xa0', 'Denmark\\xa0', 'Uruguay\\xa0', 'East Germany\\xa0', 'Iran\\xa0', 'Wales\\xa0', 'Greece\\xa0', 'Ghana\\xa0', 'Soviet Union\\xa0', 'Slovenia\\xa0', 'United States\\xa0', 'Haiti\\xa0', 'Jamaica\\xa0', 'Russia\\xa0', 'FR Yugoslavia\\xa0', 'Trinidad and Tobago\\xa0', 'Brazil\\xa0', 'Nigeria\\xa0', 'Iraq\\xa0', 'Northern Ireland\\xa0', 'Spain\\xa0', 'Paraguay\\xa0', 'Czechoslovakia\\xa0', 'Costa Rica\\xa0', 'Romania\\xa0', 'Netherlands\\xa0', 'Cameroon\\xa0', 'Australia\\xa0', 'Slovakia\\xa0', 'Tunisia\\xa0', 'Portugal\\xa0', 'France\\xa0', 'Ukraine\\xa0', 'Switzerland\\xa0', 'Mexico\\xa0', 'Croatia\\xa0', 'Colombia\\xa0', 'Bulgaria\\xa0', 'Yugoslavia\\xa0', 'Belgium\\xa0', 'Republic of Ireland\\xa0', 'Scotland\\xa0', 'Zaire\\xa0', 'Cuba\\xa0', 'Angola\\xa0', 'Iceland\\xa0', 'Germany\\xa0', 'Italy\\xa0', 'Canada\\xa0', 'Serbia and Montenegro\\xa0', 'Argentina\\xa0', 'Ivory Coast\\xa0', 'Austria\\xa0', 'Egypt\\xa0'}\n"
     ]
    }
   ],
   "source": [
    "#Se observa que la data no esta del todo limpio\n",
    "set_home_dh= set(df_data_historica[\"home\"].to_list())\n",
    "print(set_home_dh)"
   ]
  },
  {
   "cell_type": "code",
   "execution_count": 320,
   "id": "416fd7f9-372e-49c3-b5d1-71efba2e18f2",
   "metadata": {},
   "outputs": [],
   "source": [
    "df_data_historica[\"home\"]=df_data_historica[\"home\"].str.strip()"
   ]
  },
  {
   "cell_type": "code",
   "execution_count": 322,
   "id": "0b146bfb-bf6c-46f5-8123-daa075321a77",
   "metadata": {},
   "outputs": [
    {
     "name": "stdout",
     "output_type": "stream",
     "text": [
      "{'Mexico', 'Portugal', 'Paraguay', 'Colombia', 'New Zealand', 'Austria', 'Honduras', 'Switzerland', 'Peru', 'Nigeria', 'Bulgaria', 'Croatia', 'Czech Republic', 'Wales', 'Romania', 'Russia', 'Egypt', 'Chile', 'Jamaica', 'United States', 'Iceland', 'Cameroon', 'Trinidad and Tobago', 'Hungary', 'Ecuador', 'Italy', 'Zaire', 'South Korea', 'Argentina', 'Iran', 'Haiti', 'Senegal', 'Tunisia', 'Iraq', 'Ivory Coast', 'Angola', 'East Germany', 'Denmark', 'Bosnia and Herzegovina', 'West Germany', 'Soviet Union', 'Panama', 'Scotland', 'Poland', 'Turkey', 'Ukraine', 'Saudi Arabia', 'Germany', 'Serbia', 'Czechoslovakia', 'China', 'Japan', 'Slovenia', 'Algeria', 'Morocco', 'Sweden', 'Costa Rica', 'Belgium', 'Uruguay', 'Australia', 'Spain', 'Brazil', 'Yugoslavia', 'Northern Ireland', 'Republic of Ireland', 'England', 'Cuba', 'Netherlands', 'North Korea', 'Togo', 'Canada', 'South Africa', 'France', 'Greece', 'Serbia and Montenegro', 'Ghana', 'FR Yugoslavia', 'Slovakia'}\n"
     ]
    }
   ],
   "source": [
    "#Se observa que la data no esta del todo limpio\n",
    "set_home_dh= set(df_data_historica[\"home\"].to_list())\n",
    "print(set_home_dh)"
   ]
  },
  {
   "cell_type": "markdown",
   "id": "336798a8-d11d-4ebe-ab38-f632e5c204ec",
   "metadata": {},
   "source": [
    "# 1.1.1 Limpieza de df_fixture[\"away\"]"
   ]
  },
  {
   "cell_type": "code",
   "execution_count": 326,
   "id": "751a9726-a91f-4328-9486-a6b0c2e67c1a",
   "metadata": {},
   "outputs": [
    {
     "name": "stdout",
     "output_type": "stream",
     "text": [
      "{'\\xa0North Korea', '\\xa0Czechoslovakia', '\\xa0Tunisia', '\\xa0Senegal', '\\xa0Morocco', ' Yugoslavia', '\\xa0Poland', '\\xa0Peru', '\\xa0Ivory Coast', '\\xa0Egypt', '\\xa0Israel', '\\xa0Iraq', '\\xa0Iceland', '\\xa0Dutch East Indies', '\\xa0Belgium', '\\xa0Mexico', '\\xa0Iran', '\\xa0New Zealand', '\\xa0South Korea', '\\xa0Scotland', '\\xa0Chile', '\\xa0Uruguay', '\\xa0Brazil', '\\xa0Angola', '\\xa0Northern Ireland', '\\xa0Slovakia', '\\xa0Bolivia', '\\xa0Bulgaria', '\\xa0Ukraine', '\\xa0Spain', '\\xa0Russia', '\\xa0Greece', '\\xa0Cameroon', '\\xa0Kuwait', '\\xa0France', '\\xa0Slovenia', '\\xa0Jamaica', '\\xa0Germany', '\\xa0Norway', '\\xa0Canada', '\\xa0Haiti', '\\xa0Paraguay', '\\xa0Argentina', '\\xa0Romania', '\\xa0Cuba', '\\xa0Turkey', '\\xa0Denmark', '\\xa0Japan', '\\xa0Colombia', '\\xa0Sweden', '\\xa0Ecuador', '\\xa0Zaire', '\\xa0Trinidad and Tobago', '\\xa0Ghana', '\\xa0Czech Republic', '\\xa0Australia', '\\xa0East Germany', '\\xa0FR Yugoslavia', '\\xa0Serbia and Montenegro', '\\xa0China', '\\xa0Algeria', '\\xa0Serbia', '\\xa0United States', '\\xa0Nigeria', '\\xa0Togo', '\\xa0Panama', '\\xa0Yugoslavia', '\\xa0El Salvador', '\\xa0Hungary', '\\xa0Netherlands', '\\xa0Austria', '\\xa0Croatia', '\\xa0West Germany', '\\xa0Italy', '\\xa0Wales', '\\xa0Costa Rica', '\\xa0Soviet Union', '\\xa0Honduras', '\\xa0\\xa0Switzerland', '\\xa0Bosnia and Herzegovina', '\\xa0Republic of Ireland', '\\xa0England', '\\xa0Saudi Arabia', '\\xa0Portugal', '\\xa0South Africa'}\n"
     ]
    }
   ],
   "source": [
    "#Se observa que la data no esta del todo limpio\n",
    "set_away_dh= set(df_data_historica[\"away\"].to_list())\n",
    "print(set_away_dh)"
   ]
  },
  {
   "cell_type": "code",
   "execution_count": 328,
   "id": "9ca27a32-fb2d-4a42-a20f-a9c6a4148b90",
   "metadata": {},
   "outputs": [],
   "source": [
    "df_data_historica[\"away\"] = df_data_historica[\"away\"].str.strip()"
   ]
  },
  {
   "cell_type": "code",
   "execution_count": 330,
   "id": "ea28c717-636f-4134-8b3a-7d2b7a7f7833",
   "metadata": {},
   "outputs": [
    {
     "name": "stdout",
     "output_type": "stream",
     "text": [
      "{'Mexico', 'Israel', 'Portugal', 'Paraguay', 'Colombia', 'New Zealand', 'Austria', 'Honduras', 'Switzerland', 'Peru', 'Nigeria', 'Bulgaria', 'Croatia', 'Czech Republic', 'Wales', 'Kuwait', 'Romania', 'Russia', 'Egypt', 'Chile', 'Jamaica', 'United States', 'Iceland', 'Bolivia', 'Cameroon', 'Trinidad and Tobago', 'Hungary', 'Ecuador', 'Italy', 'Zaire', 'South Korea', 'Argentina', 'Iran', 'Haiti', 'Senegal', 'Tunisia', 'Iraq', 'Ivory Coast', 'Angola', 'East Germany', 'Denmark', 'Bosnia and Herzegovina', 'West Germany', 'El Salvador', 'Soviet Union', 'Panama', 'Scotland', 'Poland', 'Turkey', 'Ukraine', 'Saudi Arabia', 'Germany', 'Serbia', 'Czechoslovakia', 'Norway', 'China', 'Japan', 'Slovenia', 'Algeria', 'Morocco', 'Sweden', 'Costa Rica', 'Belgium', 'Uruguay', 'Australia', 'Spain', 'Brazil', 'Yugoslavia', 'Northern Ireland', 'Republic of Ireland', 'England', 'Cuba', 'Netherlands', 'North Korea', 'Togo', 'Canada', 'South Africa', 'France', 'Dutch East Indies', 'Greece', 'Serbia and Montenegro', 'Ghana', 'FR Yugoslavia', 'Slovakia'}\n"
     ]
    }
   ],
   "source": [
    "#Se observa que la data no esta del todo limpio\n",
    "set_away_dh= set(df_data_historica[\"away\"].to_list())\n",
    "print(set_away_dh)"
   ]
  },
  {
   "cell_type": "markdown",
   "id": "b2040bc8-c6c2-4383-a83e-56b3af146da4",
   "metadata": {},
   "source": [
    "# 1.2.2 Limpieza de df_data_historica[\"score\"]"
   ]
  },
  {
   "cell_type": "code",
   "execution_count": 324,
   "id": "2b371e51-27c3-416a-b548-60d4349604fd",
   "metadata": {},
   "outputs": [
    {
     "name": "stdout",
     "output_type": "stream",
     "text": [
      "{'5–2', '1–1', '0–1', '0–2', '2–1 (a.e.t./g.g.)', '2–1', '3–2 (a.e.t.)', '0–2 (a.e.t.)', '6–5 (a.e.t.)', '6–1', '1–0', '7–5', 'w/o', '1–3', '1–5', '3–1 (a.e.t.)', '2–4', '4–4 (a.e.t.)', '8–3', '5–0', '4–2 (a.e.t.)', '3–4 (a.e.t.)', '0–0 (a.e.t.)', '9–0', '3–0', '4–2', '2–2', '1–2', '4–3 (a.e.t.)', '2–5', '1–7', '5–1', '7–3', '2–3', '3–2', '0–1 (a.e.t./g.g.)', '0–1 (a.e.t.)', '7–0', '1–0 (a.e.t.)', '2–2 (a.e.t.)', '1–2 (a.e.t./g.g.)', '2–1 (a.e.t.)', '8–0', '3–3', '2–4 (a.e.t.)', '1–0 (a.e.t./g.g.)', '5–3', '6–3', '7–1', '4–3', '4–0', '0–3', '1–2 (a.e.t.)', '1–1 (a.e.t.)', '10–1', '0–0', '4–4', '1–4', '4–1', '3–0 (a.e.t.)', '3–3 (a.e.t.)', '6–0', '0–7', '3–1', '2–0', '7–2', '0–4'}\n"
     ]
    }
   ],
   "source": [
    "#Se observa que la data no esta del todo limpio\n",
    "set_score_dh= set(df_data_historica[\"score\"].to_list())\n",
    "print(set_score_dh)"
   ]
  },
  {
   "cell_type": "code",
   "execution_count": 332,
   "id": "9e2c4d73-9698-4873-a592-43fdcdaaaea0",
   "metadata": {},
   "outputs": [
    {
     "data": {
      "text/html": [
       "<div>\n",
       "<style scoped>\n",
       "    .dataframe tbody tr th:only-of-type {\n",
       "        vertical-align: middle;\n",
       "    }\n",
       "\n",
       "    .dataframe tbody tr th {\n",
       "        vertical-align: top;\n",
       "    }\n",
       "\n",
       "    .dataframe thead th {\n",
       "        text-align: right;\n",
       "    }\n",
       "</style>\n",
       "<table border=\"1\" class=\"dataframe\">\n",
       "  <thead>\n",
       "    <tr style=\"text-align: right;\">\n",
       "      <th></th>\n",
       "      <th>home</th>\n",
       "      <th>score</th>\n",
       "      <th>away</th>\n",
       "      <th>year</th>\n",
       "    </tr>\n",
       "  </thead>\n",
       "  <tbody>\n",
       "    <tr>\n",
       "      <th>37</th>\n",
       "      <td>Sweden</td>\n",
       "      <td>w/o</td>\n",
       "      <td>Austria</td>\n",
       "      <td>1938.0</td>\n",
       "    </tr>\n",
       "  </tbody>\n",
       "</table>\n",
       "</div>"
      ],
      "text/plain": [
       "      home score     away    year\n",
       "37  Sweden   w/o  Austria  1938.0"
      ]
     },
     "execution_count": 332,
     "metadata": {},
     "output_type": "execute_result"
    }
   ],
   "source": [
    "df_data_historica[df_data_historica[\"home\"].str.contains('Sweden') & df_data_historica[\"away\"].str.contains('Austria')]"
   ]
  },
  {
   "cell_type": "code",
   "execution_count": 334,
   "id": "765358b4-2a49-4662-a34e-4e86f933855d",
   "metadata": {},
   "outputs": [
    {
     "data": {
      "text/plain": [
       "Index([37], dtype='int64')"
      ]
     },
     "execution_count": 334,
     "metadata": {},
     "output_type": "execute_result"
    }
   ],
   "source": [
    "df_data_historica[df_data_historica[\"home\"].str.contains('Sweden') & \n",
    "                                    df_data_historica[\"away\"].str.contains('Austria')].index"
   ]
  },
  {
   "cell_type": "code",
   "execution_count": 336,
   "id": "c44fd105-11fb-47fd-aed2-be0d36bd3029",
   "metadata": {},
   "outputs": [],
   "source": [
    "index_eliminar = df_data_historica[df_data_historica[\"home\"].str.contains('Sweden') &\n",
    "                                    df_data_historica[\"away\"].str.contains('Austria')].index"
   ]
  },
  {
   "cell_type": "code",
   "execution_count": 338,
   "id": "ca5a6e00-e056-4848-8bbd-c52bc86d8032",
   "metadata": {},
   "outputs": [],
   "source": [
    "df_data_historica.drop(index=index_eliminar,inplace=True)"
   ]
  },
  {
   "cell_type": "code",
   "execution_count": 340,
   "id": "0615d7a0-a661-4c8d-a558-8cb6d44bc928",
   "metadata": {},
   "outputs": [
    {
     "data": {
      "text/html": [
       "<div>\n",
       "<style scoped>\n",
       "    .dataframe tbody tr th:only-of-type {\n",
       "        vertical-align: middle;\n",
       "    }\n",
       "\n",
       "    .dataframe tbody tr th {\n",
       "        vertical-align: top;\n",
       "    }\n",
       "\n",
       "    .dataframe thead th {\n",
       "        text-align: right;\n",
       "    }\n",
       "</style>\n",
       "<table border=\"1\" class=\"dataframe\">\n",
       "  <thead>\n",
       "    <tr style=\"text-align: right;\">\n",
       "      <th></th>\n",
       "      <th>home</th>\n",
       "      <th>score</th>\n",
       "      <th>away</th>\n",
       "      <th>year</th>\n",
       "    </tr>\n",
       "  </thead>\n",
       "  <tbody>\n",
       "  </tbody>\n",
       "</table>\n",
       "</div>"
      ],
      "text/plain": [
       "Empty DataFrame\n",
       "Columns: [home, score, away, year]\n",
       "Index: []"
      ]
     },
     "execution_count": 340,
     "metadata": {},
     "output_type": "execute_result"
    }
   ],
   "source": [
    "df_data_historica[df_data_historica[\"home\"].str.contains('Sweden') & \n",
    "                                    df_data_historica[\"away\"].str.contains('Austria')]"
   ]
  },
  {
   "cell_type": "code",
   "execution_count": 342,
   "id": "130c54ff-359b-45bf-a18a-891258bdd008",
   "metadata": {},
   "outputs": [
    {
     "name": "stdout",
     "output_type": "stream",
     "text": [
      "{'5–2', '1–1', '0–1', '0–2', '2–1 (a.e.t./g.g.)', '2–1', '3–2 (a.e.t.)', '0–2 (a.e.t.)', '6–5 (a.e.t.)', '6–1', '1–0', '7–5', '1–3', '1–5', '3–1 (a.e.t.)', '2–4', '4–4 (a.e.t.)', '8–3', '5–0', '4–2 (a.e.t.)', '3–4 (a.e.t.)', '0–0 (a.e.t.)', '9–0', '3–0', '4–2', '2–2', '1–2', '4–3 (a.e.t.)', '2–5', '1–7', '5–1', '7–3', '2–3', '3–2', '0–1 (a.e.t./g.g.)', '0–1 (a.e.t.)', '7–0', '1–0 (a.e.t.)', '2–2 (a.e.t.)', '1–2 (a.e.t./g.g.)', '2–1 (a.e.t.)', '8–0', '3–3', '2–4 (a.e.t.)', '1–0 (a.e.t./g.g.)', '5–3', '6–3', '7–1', '4–3', '4–0', '0–3', '1–2 (a.e.t.)', '1–1 (a.e.t.)', '10–1', '0–0', '4–4', '1–4', '4–1', '3–0 (a.e.t.)', '3–3 (a.e.t.)', '6–0', '0–7', '3–1', '2–0', '7–2', '0–4'}\n"
     ]
    }
   ],
   "source": [
    "#Se observa que la data no esta del todo limpio\n",
    "set_score_dh= set(df_data_historica[\"score\"].to_list())\n",
    "print(set_score_dh)"
   ]
  },
  {
   "cell_type": "code",
   "execution_count": 344,
   "id": "3b0c6dbf-5350-4b1e-9c36-74a8122af485",
   "metadata": {},
   "outputs": [
    {
     "name": "stdout",
     "output_type": "stream",
     "text": [
      "Empty DataFrame\n",
      "Columns: [home, score, away, year]\n",
      "Index: []\n"
     ]
    }
   ],
   "source": [
    "\n",
    "\n",
    "# Filtra las filas donde la columna 'score' tiene el formato número-número(a.e.t.)\n",
    "result = df_data_historica[df_data_historica[\"score\"].str.contains(r'^[0-9]+-[0-9]+\\(\\a\\.e\\.t\\.\\)$', na=False)]\n",
    "\n",
    "# Muestra las filas filtradas\n",
    "print(result)\n"
   ]
  },
  {
   "cell_type": "code",
   "execution_count": 346,
   "id": "76a24183-1f80-4747-bd55-6dacabdda4fc",
   "metadata": {},
   "outputs": [
    {
     "name": "stdout",
     "output_type": "stream",
     "text": [
      "                 home              score                 away    year\n",
      "24            Austria       3–2 (a.e.t.)               France  1934.0\n",
      "27              Italy       1–1 (a.e.t.)                Spain  1934.0\n",
      "34              Italy       2–1 (a.e.t.)       Czechoslovakia  1934.0\n",
      "35        Switzerland       1–1 (a.e.t.)              Germany  1938.0\n",
      "38               Cuba       3–3 (a.e.t.)              Romania  1938.0\n",
      "40              Italy       2–1 (a.e.t.)               Norway  1938.0\n",
      "41             Brazil       6–5 (a.e.t.)               Poland  1938.0\n",
      "42     Czechoslovakia       3–0 (a.e.t.)          Netherlands  1938.0\n",
      "48             Brazil       1–1 (a.e.t.)       Czechoslovakia  1938.0\n",
      "78             Brazil       1–1 (a.e.t.)           Yugoslavia  1954.0\n",
      "90            England       4–4 (a.e.t.)              Belgium  1954.0\n",
      "99            Hungary       4–2 (a.e.t.)              Uruguay  1954.0\n",
      "108  Northern Ireland       2–1 (a.e.t.)       Czechoslovakia  1958.0\n",
      "200           England       4–2 (a.e.t.)         West Germany  1966.0\n",
      "225      Soviet Union       0–1 (a.e.t.)              Uruguay  1970.0\n",
      "228      West Germany       3–2 (a.e.t.)              England  1970.0\n",
      "230             Italy       4–3 (a.e.t.)         West Germany  1970.0\n",
      "308         Argentina       3–1 (a.e.t.)          Netherlands  1978.0\n",
      "358      West Germany       3–3 (a.e.t.)               France  1982.0\n",
      "398      Soviet Union       3–4 (a.e.t.)              Belgium  1986.0\n",
      "405            Brazil       1–1 (a.e.t.)               France  1986.0\n",
      "406      West Germany       0–0 (a.e.t.)               Mexico  1986.0\n",
      "408             Spain       1–1 (a.e.t.)              Belgium  1986.0\n",
      "411           Belgium       2–4 (a.e.t.)               France  1986.0\n",
      "463            France  1–0 (a.e.t./g.g.)             Paraguay  1998.0\n",
      "468         Argentina       2–2 (a.e.t.)              England  1998.0\n",
      "469             Italy       0–0 (a.e.t.)               France  1998.0\n",
      "473            Brazil       1–1 (a.e.t.)          Netherlands  1998.0\n",
      "527            Sweden  1–2 (a.e.t./g.g.)              Senegal  2002.0\n",
      "528             Spain       1–1 (a.e.t.)  Republic of Ireland  2002.0\n",
      "532       South Korea  2–1 (a.e.t./g.g.)                Italy  2002.0\n",
      "535             Spain       0–0 (a.e.t.)          South Korea  2002.0\n",
      "536           Senegal  0–1 (a.e.t./g.g.)               Turkey  2002.0\n",
      "590         Argentina       2–1 (a.e.t.)               Mexico  2006.0\n",
      "594       Switzerland       0–0 (a.e.t.)              Ukraine  2006.0\n",
      "597           Germany       1–1 (a.e.t.)            Argentina  2006.0\n",
      "599           England       0–0 (a.e.t.)             Portugal  2006.0\n",
      "601           Germany       0–2 (a.e.t.)                Italy  2006.0\n",
      "604             Italy       1–1 (a.e.t.)               France  2006.0\n",
      "654     United States       1–2 (a.e.t.)                Ghana  2010.0\n",
      "659          Paraguay       0–0 (a.e.t.)                Japan  2010.0\n",
      "662           Uruguay       1–1 (a.e.t.)                Ghana  2010.0\n",
      "668       Netherlands       0–1 (a.e.t.)                Spain  2010.0\n",
      "717            Brazil       1–1 (a.e.t.)                Chile  2014.0\n",
      "720        Costa Rica       1–1 (a.e.t.)               Greece  2014.0\n",
      "722           Germany       2–1 (a.e.t.)              Algeria  2014.0\n",
      "723         Argentina       1–0 (a.e.t.)          Switzerland  2014.0\n",
      "724           Belgium       2–1 (a.e.t.)        United States  2014.0\n",
      "728       Netherlands       0–0 (a.e.t.)           Costa Rica  2014.0\n",
      "730       Netherlands       0–0 (a.e.t.)            Argentina  2014.0\n",
      "732           Germany       1–0 (a.e.t.)            Argentina  2014.0\n",
      "783             Spain       1–1 (a.e.t.)               Russia  2018.0\n",
      "784           Croatia       1–1 (a.e.t.)              Denmark  2018.0\n",
      "788          Colombia       1–1 (a.e.t.)              England  2018.0\n",
      "792            Russia       2–2 (a.e.t.)              Croatia  2018.0\n",
      "794           Croatia       2–1 (a.e.t.)              England  2018.0\n"
     ]
    }
   ],
   "source": [
    "# Filtra todas las filas donde la columna \"score\" contenga texto adicional entre paréntesis\n",
    "result = df_data_historica[df_data_historica[\"score\"].str.contains(r'\\(.*\\)', na=False)]\n",
    "\n",
    "# Muestra las filas filtradas\n",
    "print(result)"
   ]
  },
  {
   "cell_type": "code",
   "execution_count": 348,
   "id": "ea6991ef-bfde-4908-ac6d-ccdd62be591b",
   "metadata": {},
   "outputs": [],
   "source": [
    "df_data_historica[\"score\"] = df_data_historica[\"score\"].str.replace(r'\\(.*\\)', ' ', regex=True)\n"
   ]
  },
  {
   "cell_type": "code",
   "execution_count": 350,
   "id": "49952e90-a54b-4fa4-961e-b5ce93d9b835",
   "metadata": {},
   "outputs": [
    {
     "name": "stdout",
     "output_type": "stream",
     "text": [
      "0        4–1\n",
      "1        1–0\n",
      "2        3–0\n",
      "3        1–0\n",
      "4        6–3\n",
      "       ...  \n",
      "792    2–2  \n",
      "793      1–0\n",
      "794    2–1  \n",
      "795      2–0\n",
      "796      4–2\n",
      "Name: score, Length: 796, dtype: object\n"
     ]
    }
   ],
   "source": [
    "print(df_data_historica[\"score\"])"
   ]
  },
  {
   "cell_type": "code",
   "execution_count": 352,
   "id": "43ac53cc-16ff-4018-8c20-84f4010bb5ed",
   "metadata": {},
   "outputs": [
    {
     "name": "stdout",
     "output_type": "stream",
     "text": [
      "Empty DataFrame\n",
      "Columns: [home, score, away, year]\n",
      "Index: []\n"
     ]
    }
   ],
   "source": [
    "# Filtra todas las filas donde la columna \"score\" contenga texto adicional entre paréntesis\n",
    "result = df_data_historica[df_data_historica[\"score\"].str.contains(r'\\(.*\\)', na=False)]\n",
    "\n",
    "# Muestra las filas filtradas\n",
    "print(result)"
   ]
  },
  {
   "cell_type": "code",
   "execution_count": 354,
   "id": "bc2c7b59-f028-494c-ab8d-7172f17e4bae",
   "metadata": {},
   "outputs": [
    {
     "name": "stdout",
     "output_type": "stream",
     "text": [
      "{'5–2', '2–2  ', '1–1', '4–2  ', '3–1  ', '4–4  ', '0–1', '0–2', '2–1', '4–3  ', '6–1', '1–0', '7–5', '1–3', '1–5', '2–4  ', '1–0  ', '0–2  ', '2–4', '8–3', '3–4  ', '5–0', '3–3  ', '9–0', '0–0  ', '3–0', '4–2', '2–2', '1–2', '2–5', '1–2  ', '1–7', '3–0  ', '5–1', '7–3', '2–1  ', '2–3', '3–2', '0–1  ', '7–0', '6–5  ', '8–0', '3–3', '1–1  ', '3–2  ', '5–3', '6–3', '7–1', '4–3', '4–0', '0–3', '10–1', '0–0', '4–4', '1–4', '4–1', '6–0', '0–7', '3–1', '2–0', '7–2', '0–4'}\n"
     ]
    }
   ],
   "source": [
    "#Se observa que la data no esta del todo limpio ya que tiene ciertos espacios en blanco\n",
    "set_score_dh= set(df_data_historica[\"score\"].to_list())\n",
    "print(set_score_dh)"
   ]
  },
  {
   "cell_type": "code",
   "execution_count": 356,
   "id": "26893bcd-3f1f-4489-975e-e05c09aedb5d",
   "metadata": {},
   "outputs": [],
   "source": [
    "df_data_historica[\"score\"] = df_data_historica[\"score\"].str.strip()"
   ]
  },
  {
   "cell_type": "code",
   "execution_count": 358,
   "id": "be36b46e-9e27-402f-a0c0-c072ffbdef8f",
   "metadata": {},
   "outputs": [
    {
     "name": "stdout",
     "output_type": "stream",
     "text": [
      "{'5–2', '1–1', '0–1', '0–2', '2–1', '6–1', '1–0', '7–5', '1–3', '1–5', '2–4', '8–3', '5–0', '9–0', '3–0', '4–2', '2–2', '1–2', '2–5', '1–7', '5–1', '7–3', '2–3', '3–2', '7–0', '8–0', '3–3', '5–3', '6–3', '7–1', '4–3', '3–4', '4–0', '0–3', '6–5', '10–1', '0–0', '4–4', '1–4', '4–1', '6–0', '0–7', '3–1', '2–0', '7–2', '0–4'}\n"
     ]
    }
   ],
   "source": [
    "#Se observa que la data ya esta limpio\n",
    "set_score_dh= set(df_data_historica[\"score\"].to_list())\n",
    "print(set_score_dh)"
   ]
  },
  {
   "cell_type": "code",
   "execution_count": 360,
   "id": "31c3460f-eb30-49b1-be51-6243822b93a8",
   "metadata": {},
   "outputs": [
    {
     "name": "stdout",
     "output_type": "stream",
     "text": [
      "Empty DataFrame\n",
      "Columns: [home, score, away, year]\n",
      "Index: []\n"
     ]
    }
   ],
   "source": [
    "# Filtra todas las filas donde la columna \"score\" contenga texto adicional entre paréntesis\n",
    "result = df_data_historica[df_data_historica[\"score\"].str.contains(r'\\(.*\\)', na=False)]\n",
    "\n",
    "# Muestra las filas filtradas\n",
    "print(result)"
   ]
  },
  {
   "cell_type": "code",
   "execution_count": 362,
   "id": "19d0de9b-f480-48c7-822c-fdd07beb2867",
   "metadata": {},
   "outputs": [
    {
     "data": {
      "text/plain": [
       "0      [4–1]\n",
       "1      [1–0]\n",
       "2      [3–0]\n",
       "3      [1–0]\n",
       "4      [6–3]\n",
       "       ...  \n",
       "792    [2–2]\n",
       "793    [1–0]\n",
       "794    [2–1]\n",
       "795    [2–0]\n",
       "796    [4–2]\n",
       "Name: score, Length: 796, dtype: object"
      ]
     },
     "execution_count": 362,
     "metadata": {},
     "output_type": "execute_result"
    }
   ],
   "source": [
    "df_data_historica[\"score\"].str.split('-')"
   ]
  },
  {
   "cell_type": "code",
   "execution_count": 364,
   "id": "9cffa670-a7e0-4a85-b37c-6ef8efd0845c",
   "metadata": {},
   "outputs": [
    {
     "data": {
      "text/html": [
       "<div>\n",
       "<style scoped>\n",
       "    .dataframe tbody tr th:only-of-type {\n",
       "        vertical-align: middle;\n",
       "    }\n",
       "\n",
       "    .dataframe tbody tr th {\n",
       "        vertical-align: top;\n",
       "    }\n",
       "\n",
       "    .dataframe thead th {\n",
       "        text-align: right;\n",
       "    }\n",
       "</style>\n",
       "<table border=\"1\" class=\"dataframe\">\n",
       "  <thead>\n",
       "    <tr style=\"text-align: right;\">\n",
       "      <th></th>\n",
       "      <th>0</th>\n",
       "      <th>1</th>\n",
       "    </tr>\n",
       "  </thead>\n",
       "  <tbody>\n",
       "    <tr>\n",
       "      <th>0</th>\n",
       "      <td>4</td>\n",
       "      <td>1</td>\n",
       "    </tr>\n",
       "    <tr>\n",
       "      <th>1</th>\n",
       "      <td>1</td>\n",
       "      <td>0</td>\n",
       "    </tr>\n",
       "    <tr>\n",
       "      <th>2</th>\n",
       "      <td>3</td>\n",
       "      <td>0</td>\n",
       "    </tr>\n",
       "    <tr>\n",
       "      <th>3</th>\n",
       "      <td>1</td>\n",
       "      <td>0</td>\n",
       "    </tr>\n",
       "    <tr>\n",
       "      <th>4</th>\n",
       "      <td>6</td>\n",
       "      <td>3</td>\n",
       "    </tr>\n",
       "    <tr>\n",
       "      <th>...</th>\n",
       "      <td>...</td>\n",
       "      <td>...</td>\n",
       "    </tr>\n",
       "    <tr>\n",
       "      <th>792</th>\n",
       "      <td>2</td>\n",
       "      <td>2</td>\n",
       "    </tr>\n",
       "    <tr>\n",
       "      <th>793</th>\n",
       "      <td>1</td>\n",
       "      <td>0</td>\n",
       "    </tr>\n",
       "    <tr>\n",
       "      <th>794</th>\n",
       "      <td>2</td>\n",
       "      <td>1</td>\n",
       "    </tr>\n",
       "    <tr>\n",
       "      <th>795</th>\n",
       "      <td>2</td>\n",
       "      <td>0</td>\n",
       "    </tr>\n",
       "    <tr>\n",
       "      <th>796</th>\n",
       "      <td>4</td>\n",
       "      <td>2</td>\n",
       "    </tr>\n",
       "  </tbody>\n",
       "</table>\n",
       "<p>796 rows × 2 columns</p>\n",
       "</div>"
      ],
      "text/plain": [
       "     0  1\n",
       "0    4  1\n",
       "1    1  0\n",
       "2    3  0\n",
       "3    1  0\n",
       "4    6  3\n",
       "..  .. ..\n",
       "792  2  2\n",
       "793  1  0\n",
       "794  2  1\n",
       "795  2  0\n",
       "796  4  2\n",
       "\n",
       "[796 rows x 2 columns]"
      ]
     },
     "execution_count": 364,
     "metadata": {},
     "output_type": "execute_result"
    }
   ],
   "source": [
    "df_data_historica[\"score\"].str.split('–', expand=True )"
   ]
  },
  {
   "cell_type": "code",
   "execution_count": 366,
   "id": "22d622d0-d84f-4859-a1d2-f45d7b758ba7",
   "metadata": {},
   "outputs": [],
   "source": [
    "df_data_historica[['HomeGoals','AwayGoals']] = df_data_historica[\"score\"].str.split('–',expand=True)"
   ]
  },
  {
   "cell_type": "code",
   "execution_count": 368,
   "id": "598e65c6-b3f0-4740-a447-6c2dbb54caaf",
   "metadata": {},
   "outputs": [
    {
     "data": {
      "text/html": [
       "<div>\n",
       "<style scoped>\n",
       "    .dataframe tbody tr th:only-of-type {\n",
       "        vertical-align: middle;\n",
       "    }\n",
       "\n",
       "    .dataframe tbody tr th {\n",
       "        vertical-align: top;\n",
       "    }\n",
       "\n",
       "    .dataframe thead th {\n",
       "        text-align: right;\n",
       "    }\n",
       "</style>\n",
       "<table border=\"1\" class=\"dataframe\">\n",
       "  <thead>\n",
       "    <tr style=\"text-align: right;\">\n",
       "      <th></th>\n",
       "      <th>home</th>\n",
       "      <th>score</th>\n",
       "      <th>away</th>\n",
       "      <th>year</th>\n",
       "      <th>HomeGoals</th>\n",
       "      <th>AwayGoals</th>\n",
       "    </tr>\n",
       "  </thead>\n",
       "  <tbody>\n",
       "    <tr>\n",
       "      <th>0</th>\n",
       "      <td>France</td>\n",
       "      <td>4–1</td>\n",
       "      <td>Mexico</td>\n",
       "      <td>1930.0</td>\n",
       "      <td>4</td>\n",
       "      <td>1</td>\n",
       "    </tr>\n",
       "    <tr>\n",
       "      <th>1</th>\n",
       "      <td>Argentina</td>\n",
       "      <td>1–0</td>\n",
       "      <td>France</td>\n",
       "      <td>1930.0</td>\n",
       "      <td>1</td>\n",
       "      <td>0</td>\n",
       "    </tr>\n",
       "    <tr>\n",
       "      <th>2</th>\n",
       "      <td>Chile</td>\n",
       "      <td>3–0</td>\n",
       "      <td>Mexico</td>\n",
       "      <td>1930.0</td>\n",
       "      <td>3</td>\n",
       "      <td>0</td>\n",
       "    </tr>\n",
       "    <tr>\n",
       "      <th>3</th>\n",
       "      <td>Chile</td>\n",
       "      <td>1–0</td>\n",
       "      <td>France</td>\n",
       "      <td>1930.0</td>\n",
       "      <td>1</td>\n",
       "      <td>0</td>\n",
       "    </tr>\n",
       "    <tr>\n",
       "      <th>4</th>\n",
       "      <td>Argentina</td>\n",
       "      <td>6–3</td>\n",
       "      <td>Mexico</td>\n",
       "      <td>1930.0</td>\n",
       "      <td>6</td>\n",
       "      <td>3</td>\n",
       "    </tr>\n",
       "    <tr>\n",
       "      <th>...</th>\n",
       "      <td>...</td>\n",
       "      <td>...</td>\n",
       "      <td>...</td>\n",
       "      <td>...</td>\n",
       "      <td>...</td>\n",
       "      <td>...</td>\n",
       "    </tr>\n",
       "    <tr>\n",
       "      <th>792</th>\n",
       "      <td>Russia</td>\n",
       "      <td>2–2</td>\n",
       "      <td>Croatia</td>\n",
       "      <td>2018.0</td>\n",
       "      <td>2</td>\n",
       "      <td>2</td>\n",
       "    </tr>\n",
       "    <tr>\n",
       "      <th>793</th>\n",
       "      <td>France</td>\n",
       "      <td>1–0</td>\n",
       "      <td>Belgium</td>\n",
       "      <td>2018.0</td>\n",
       "      <td>1</td>\n",
       "      <td>0</td>\n",
       "    </tr>\n",
       "    <tr>\n",
       "      <th>794</th>\n",
       "      <td>Croatia</td>\n",
       "      <td>2–1</td>\n",
       "      <td>England</td>\n",
       "      <td>2018.0</td>\n",
       "      <td>2</td>\n",
       "      <td>1</td>\n",
       "    </tr>\n",
       "    <tr>\n",
       "      <th>795</th>\n",
       "      <td>Belgium</td>\n",
       "      <td>2–0</td>\n",
       "      <td>England</td>\n",
       "      <td>2018.0</td>\n",
       "      <td>2</td>\n",
       "      <td>0</td>\n",
       "    </tr>\n",
       "    <tr>\n",
       "      <th>796</th>\n",
       "      <td>France</td>\n",
       "      <td>4–2</td>\n",
       "      <td>Croatia</td>\n",
       "      <td>2018.0</td>\n",
       "      <td>4</td>\n",
       "      <td>2</td>\n",
       "    </tr>\n",
       "  </tbody>\n",
       "</table>\n",
       "<p>796 rows × 6 columns</p>\n",
       "</div>"
      ],
      "text/plain": [
       "          home score     away    year HomeGoals AwayGoals\n",
       "0       France   4–1   Mexico  1930.0         4         1\n",
       "1    Argentina   1–0   France  1930.0         1         0\n",
       "2        Chile   3–0   Mexico  1930.0         3         0\n",
       "3        Chile   1–0   France  1930.0         1         0\n",
       "4    Argentina   6–3   Mexico  1930.0         6         3\n",
       "..         ...   ...      ...     ...       ...       ...\n",
       "792     Russia   2–2  Croatia  2018.0         2         2\n",
       "793     France   1–0  Belgium  2018.0         1         0\n",
       "794    Croatia   2–1  England  2018.0         2         1\n",
       "795    Belgium   2–0  England  2018.0         2         0\n",
       "796     France   4–2  Croatia  2018.0         4         2\n",
       "\n",
       "[796 rows x 6 columns]"
      ]
     },
     "execution_count": 368,
     "metadata": {},
     "output_type": "execute_result"
    }
   ],
   "source": [
    "df_data_historica"
   ]
  },
  {
   "cell_type": "code",
   "execution_count": 370,
   "id": "061d13cc-8ce5-4757-81b8-008de46e3be8",
   "metadata": {},
   "outputs": [
    {
     "data": {
      "text/html": [
       "<div>\n",
       "<style scoped>\n",
       "    .dataframe tbody tr th:only-of-type {\n",
       "        vertical-align: middle;\n",
       "    }\n",
       "\n",
       "    .dataframe tbody tr th {\n",
       "        vertical-align: top;\n",
       "    }\n",
       "\n",
       "    .dataframe thead th {\n",
       "        text-align: right;\n",
       "    }\n",
       "</style>\n",
       "<table border=\"1\" class=\"dataframe\">\n",
       "  <thead>\n",
       "    <tr style=\"text-align: right;\">\n",
       "      <th></th>\n",
       "      <th>home</th>\n",
       "      <th>away</th>\n",
       "      <th>year</th>\n",
       "      <th>HomeGoals</th>\n",
       "      <th>AwayGoals</th>\n",
       "    </tr>\n",
       "  </thead>\n",
       "  <tbody>\n",
       "    <tr>\n",
       "      <th>0</th>\n",
       "      <td>France</td>\n",
       "      <td>Mexico</td>\n",
       "      <td>1930.0</td>\n",
       "      <td>4</td>\n",
       "      <td>1</td>\n",
       "    </tr>\n",
       "    <tr>\n",
       "      <th>1</th>\n",
       "      <td>Argentina</td>\n",
       "      <td>France</td>\n",
       "      <td>1930.0</td>\n",
       "      <td>1</td>\n",
       "      <td>0</td>\n",
       "    </tr>\n",
       "    <tr>\n",
       "      <th>2</th>\n",
       "      <td>Chile</td>\n",
       "      <td>Mexico</td>\n",
       "      <td>1930.0</td>\n",
       "      <td>3</td>\n",
       "      <td>0</td>\n",
       "    </tr>\n",
       "    <tr>\n",
       "      <th>3</th>\n",
       "      <td>Chile</td>\n",
       "      <td>France</td>\n",
       "      <td>1930.0</td>\n",
       "      <td>1</td>\n",
       "      <td>0</td>\n",
       "    </tr>\n",
       "    <tr>\n",
       "      <th>4</th>\n",
       "      <td>Argentina</td>\n",
       "      <td>Mexico</td>\n",
       "      <td>1930.0</td>\n",
       "      <td>6</td>\n",
       "      <td>3</td>\n",
       "    </tr>\n",
       "    <tr>\n",
       "      <th>...</th>\n",
       "      <td>...</td>\n",
       "      <td>...</td>\n",
       "      <td>...</td>\n",
       "      <td>...</td>\n",
       "      <td>...</td>\n",
       "    </tr>\n",
       "    <tr>\n",
       "      <th>792</th>\n",
       "      <td>Russia</td>\n",
       "      <td>Croatia</td>\n",
       "      <td>2018.0</td>\n",
       "      <td>2</td>\n",
       "      <td>2</td>\n",
       "    </tr>\n",
       "    <tr>\n",
       "      <th>793</th>\n",
       "      <td>France</td>\n",
       "      <td>Belgium</td>\n",
       "      <td>2018.0</td>\n",
       "      <td>1</td>\n",
       "      <td>0</td>\n",
       "    </tr>\n",
       "    <tr>\n",
       "      <th>794</th>\n",
       "      <td>Croatia</td>\n",
       "      <td>England</td>\n",
       "      <td>2018.0</td>\n",
       "      <td>2</td>\n",
       "      <td>1</td>\n",
       "    </tr>\n",
       "    <tr>\n",
       "      <th>795</th>\n",
       "      <td>Belgium</td>\n",
       "      <td>England</td>\n",
       "      <td>2018.0</td>\n",
       "      <td>2</td>\n",
       "      <td>0</td>\n",
       "    </tr>\n",
       "    <tr>\n",
       "      <th>796</th>\n",
       "      <td>France</td>\n",
       "      <td>Croatia</td>\n",
       "      <td>2018.0</td>\n",
       "      <td>4</td>\n",
       "      <td>2</td>\n",
       "    </tr>\n",
       "  </tbody>\n",
       "</table>\n",
       "<p>796 rows × 5 columns</p>\n",
       "</div>"
      ],
      "text/plain": [
       "          home     away    year HomeGoals AwayGoals\n",
       "0       France   Mexico  1930.0         4         1\n",
       "1    Argentina   France  1930.0         1         0\n",
       "2        Chile   Mexico  1930.0         3         0\n",
       "3        Chile   France  1930.0         1         0\n",
       "4    Argentina   Mexico  1930.0         6         3\n",
       "..         ...      ...     ...       ...       ...\n",
       "792     Russia  Croatia  2018.0         2         2\n",
       "793     France  Belgium  2018.0         1         0\n",
       "794    Croatia  England  2018.0         2         1\n",
       "795    Belgium  England  2018.0         2         0\n",
       "796     France  Croatia  2018.0         4         2\n",
       "\n",
       "[796 rows x 5 columns]"
      ]
     },
     "execution_count": 370,
     "metadata": {},
     "output_type": "execute_result"
    }
   ],
   "source": [
    "df_data_historica.drop('score',axis=1,inplace=True)\n",
    "df_data_historica"
   ]
  },
  {
   "cell_type": "code",
   "execution_count": 372,
   "id": "46bf133a-0208-40ee-9f99-e3518f1cbc9f",
   "metadata": {},
   "outputs": [],
   "source": [
    "df_data_historica.rename(columns={'home':'HomeTeam','away':'AwayTeam','year':'Year'},inplace=True)"
   ]
  },
  {
   "cell_type": "code",
   "execution_count": 374,
   "id": "1f7f9986-c71a-47f6-83f6-3689f5aaa0ea",
   "metadata": {},
   "outputs": [
    {
     "data": {
      "text/plain": [
       "HomeTeam      object\n",
       "AwayTeam      object\n",
       "Year         float64\n",
       "HomeGoals     object\n",
       "AwayGoals     object\n",
       "dtype: object"
      ]
     },
     "execution_count": 374,
     "metadata": {},
     "output_type": "execute_result"
    }
   ],
   "source": [
    "df_data_historica.dtypes"
   ]
  },
  {
   "cell_type": "code",
   "execution_count": 376,
   "id": "cf70d5e7-8789-4fc1-81ce-8617e6995a14",
   "metadata": {},
   "outputs": [],
   "source": [
    "df_data_historica = df_data_historica.astype({'HomeGoals':int,'AwayGoals':int,'Year':int})"
   ]
  },
  {
   "cell_type": "code",
   "execution_count": 378,
   "id": "8d0b8114-6a5d-474e-ba40-4cae3ea9d206",
   "metadata": {},
   "outputs": [
    {
     "data": {
      "text/plain": [
       "HomeTeam     object\n",
       "AwayTeam     object\n",
       "Year          int32\n",
       "HomeGoals     int32\n",
       "AwayGoals     int32\n",
       "dtype: object"
      ]
     },
     "execution_count": 378,
     "metadata": {},
     "output_type": "execute_result"
    }
   ],
   "source": [
    "df_data_historica.dtypes"
   ]
  },
  {
   "cell_type": "code",
   "execution_count": 380,
   "id": "46b8fe02-6147-402b-a502-abdeed8915ad",
   "metadata": {},
   "outputs": [],
   "source": [
    "df_data_historica[\"TotalGoals\"]=df_data_historica[\"HomeGoals\"]+df_data_historica[\"AwayGoals\"]"
   ]
  },
  {
   "cell_type": "code",
   "execution_count": 382,
   "id": "cde04e49-31d4-4f21-bf40-f77f03d593de",
   "metadata": {},
   "outputs": [
    {
     "data": {
      "text/html": [
       "<div>\n",
       "<style scoped>\n",
       "    .dataframe tbody tr th:only-of-type {\n",
       "        vertical-align: middle;\n",
       "    }\n",
       "\n",
       "    .dataframe tbody tr th {\n",
       "        vertical-align: top;\n",
       "    }\n",
       "\n",
       "    .dataframe thead th {\n",
       "        text-align: right;\n",
       "    }\n",
       "</style>\n",
       "<table border=\"1\" class=\"dataframe\">\n",
       "  <thead>\n",
       "    <tr style=\"text-align: right;\">\n",
       "      <th></th>\n",
       "      <th>HomeTeam</th>\n",
       "      <th>AwayTeam</th>\n",
       "      <th>Year</th>\n",
       "      <th>HomeGoals</th>\n",
       "      <th>AwayGoals</th>\n",
       "      <th>TotalGoals</th>\n",
       "    </tr>\n",
       "  </thead>\n",
       "  <tbody>\n",
       "    <tr>\n",
       "      <th>0</th>\n",
       "      <td>France</td>\n",
       "      <td>Mexico</td>\n",
       "      <td>1930</td>\n",
       "      <td>4</td>\n",
       "      <td>1</td>\n",
       "      <td>5</td>\n",
       "    </tr>\n",
       "    <tr>\n",
       "      <th>1</th>\n",
       "      <td>Argentina</td>\n",
       "      <td>France</td>\n",
       "      <td>1930</td>\n",
       "      <td>1</td>\n",
       "      <td>0</td>\n",
       "      <td>1</td>\n",
       "    </tr>\n",
       "    <tr>\n",
       "      <th>2</th>\n",
       "      <td>Chile</td>\n",
       "      <td>Mexico</td>\n",
       "      <td>1930</td>\n",
       "      <td>3</td>\n",
       "      <td>0</td>\n",
       "      <td>3</td>\n",
       "    </tr>\n",
       "    <tr>\n",
       "      <th>3</th>\n",
       "      <td>Chile</td>\n",
       "      <td>France</td>\n",
       "      <td>1930</td>\n",
       "      <td>1</td>\n",
       "      <td>0</td>\n",
       "      <td>1</td>\n",
       "    </tr>\n",
       "    <tr>\n",
       "      <th>4</th>\n",
       "      <td>Argentina</td>\n",
       "      <td>Mexico</td>\n",
       "      <td>1930</td>\n",
       "      <td>6</td>\n",
       "      <td>3</td>\n",
       "      <td>9</td>\n",
       "    </tr>\n",
       "    <tr>\n",
       "      <th>...</th>\n",
       "      <td>...</td>\n",
       "      <td>...</td>\n",
       "      <td>...</td>\n",
       "      <td>...</td>\n",
       "      <td>...</td>\n",
       "      <td>...</td>\n",
       "    </tr>\n",
       "    <tr>\n",
       "      <th>792</th>\n",
       "      <td>Russia</td>\n",
       "      <td>Croatia</td>\n",
       "      <td>2018</td>\n",
       "      <td>2</td>\n",
       "      <td>2</td>\n",
       "      <td>4</td>\n",
       "    </tr>\n",
       "    <tr>\n",
       "      <th>793</th>\n",
       "      <td>France</td>\n",
       "      <td>Belgium</td>\n",
       "      <td>2018</td>\n",
       "      <td>1</td>\n",
       "      <td>0</td>\n",
       "      <td>1</td>\n",
       "    </tr>\n",
       "    <tr>\n",
       "      <th>794</th>\n",
       "      <td>Croatia</td>\n",
       "      <td>England</td>\n",
       "      <td>2018</td>\n",
       "      <td>2</td>\n",
       "      <td>1</td>\n",
       "      <td>3</td>\n",
       "    </tr>\n",
       "    <tr>\n",
       "      <th>795</th>\n",
       "      <td>Belgium</td>\n",
       "      <td>England</td>\n",
       "      <td>2018</td>\n",
       "      <td>2</td>\n",
       "      <td>0</td>\n",
       "      <td>2</td>\n",
       "    </tr>\n",
       "    <tr>\n",
       "      <th>796</th>\n",
       "      <td>France</td>\n",
       "      <td>Croatia</td>\n",
       "      <td>2018</td>\n",
       "      <td>4</td>\n",
       "      <td>2</td>\n",
       "      <td>6</td>\n",
       "    </tr>\n",
       "  </tbody>\n",
       "</table>\n",
       "<p>796 rows × 6 columns</p>\n",
       "</div>"
      ],
      "text/plain": [
       "      HomeTeam AwayTeam  Year  HomeGoals  AwayGoals  TotalGoals\n",
       "0       France   Mexico  1930          4          1           5\n",
       "1    Argentina   France  1930          1          0           1\n",
       "2        Chile   Mexico  1930          3          0           3\n",
       "3        Chile   France  1930          1          0           1\n",
       "4    Argentina   Mexico  1930          6          3           9\n",
       "..         ...      ...   ...        ...        ...         ...\n",
       "792     Russia  Croatia  2018          2          2           4\n",
       "793     France  Belgium  2018          1          0           1\n",
       "794    Croatia  England  2018          2          1           3\n",
       "795    Belgium  England  2018          2          0           2\n",
       "796     France  Croatia  2018          4          2           6\n",
       "\n",
       "[796 rows x 6 columns]"
      ]
     },
     "execution_count": 382,
     "metadata": {},
     "output_type": "execute_result"
    }
   ],
   "source": [
    "df_data_historica"
   ]
  },
  {
   "cell_type": "markdown",
   "id": "cf22b2b5-c992-4cf2-9429-cafb535be650",
   "metadata": {},
   "source": [
    "# Exportar la data Limpia"
   ]
  },
  {
   "cell_type": "code",
   "execution_count": 385,
   "id": "75ec859d-990a-4483-b682-f8fac53da157",
   "metadata": {},
   "outputs": [],
   "source": [
    "df_data_historica.to_csv('clean_fifa_worldcup_matches.csv',index=False)"
   ]
  },
  {
   "cell_type": "code",
   "execution_count": 387,
   "id": "da89f66b-2927-4375-aaeb-18ec67736e39",
   "metadata": {},
   "outputs": [],
   "source": [
    "df_fixture.to_csv('clean_fifa_worldcup_fixture.csv',index=False)"
   ]
  },
  {
   "cell_type": "code",
   "execution_count": null,
   "id": "2d0fb5b0-15be-489f-a111-5b0e20f1e379",
   "metadata": {},
   "outputs": [],
   "source": []
  }
 ],
 "metadata": {
  "kernelspec": {
   "display_name": "Python 3 (ipykernel)",
   "language": "python",
   "name": "python3"
  },
  "language_info": {
   "codemirror_mode": {
    "name": "ipython",
    "version": 3
   },
   "file_extension": ".py",
   "mimetype": "text/x-python",
   "name": "python",
   "nbconvert_exporter": "python",
   "pygments_lexer": "ipython3",
   "version": "3.12.7"
  }
 },
 "nbformat": 4,
 "nbformat_minor": 5
}
